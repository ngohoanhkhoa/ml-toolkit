{
 "cells": [
  {
   "cell_type": "code",
   "execution_count": 121,
   "metadata": {
    "collapsed": false
   },
   "outputs": [],
   "source": [
    "import pandas as pd\n",
    "import numpy as np\n",
    "import pyspark as ps\n",
    "from pyspark.mllib.stat import Statistics\n",
    "from pyspark.ml.linalg import Vectors\n",
    "from pyspark.ml.feature import VectorAssembler\n",
    "\n",
    "%matplotlib inline\n",
    "spark = ps.sql.SparkSession.builder.appName('Test').getOrCreate()"
   ]
  },
  {
   "cell_type": "code",
   "execution_count": 35,
   "metadata": {
    "collapsed": false
   },
   "outputs": [
    {
     "name": "stdout",
     "output_type": "stream",
     "text": [
      "\u001b[0m\u001b[01;32mcurrent-data-on-the-geographic-distribution-of-covid-19-cases-worldwide.csv\u001b[0m*\r\n"
     ]
    }
   ],
   "source": [
    "ls dataset/dataset_csv/"
   ]
  },
  {
   "cell_type": "code",
   "execution_count": 136,
   "metadata": {
    "collapsed": false
   },
   "outputs": [],
   "source": [
    "df = spark.read.format('csv').options(header='true', inferSchema='true').load('dataset/dataset_csv/current-data-on-the-geographic-distribution-of-covid-19-cases-worldwide.csv')"
   ]
  },
  {
   "cell_type": "code",
   "execution_count": 137,
   "metadata": {
    "collapsed": false,
    "scrolled": true
   },
   "outputs": [
    {
     "name": "stdout",
     "output_type": "stream",
     "text": [
      "+-------+---+-----+----+-----+------+-----------------------+-----+--------------------+-----------+------------+\n",
      "|daterep|day|month|year|cases|deaths|countriesandterritories|geoid|countryterritorycode|popdata2018|continentexp|\n",
      "+-------+---+-----+----+-----+------+-----------------------+-----+--------------------+-----------+------------+\n",
      "|   null| 28|    4|2020|  172|     0|            Afghanistan|   AF|                 AFG|   37172386|        Asia|\n",
      "|   null| 27|    4|2020|   68|    10|            Afghanistan|   AF|                 AFG|   37172386|        Asia|\n",
      "|   null| 26|    4|2020|  112|     4|            Afghanistan|   AF|                 AFG|   37172386|        Asia|\n",
      "|   null| 25|    4|2020|   70|     1|            Afghanistan|   AF|                 AFG|   37172386|        Asia|\n",
      "|   null| 24|    4|2020|  105|     2|            Afghanistan|   AF|                 AFG|   37172386|        Asia|\n",
      "|   null| 23|    4|2020|   84|     4|            Afghanistan|   AF|                 AFG|   37172386|        Asia|\n",
      "|   null| 22|    4|2020|   61|     1|            Afghanistan|   AF|                 AFG|   37172386|        Asia|\n",
      "|   null| 21|    4|2020|   35|     2|            Afghanistan|   AF|                 AFG|   37172386|        Asia|\n",
      "|   null| 20|    4|2020|   88|     3|            Afghanistan|   AF|                 AFG|   37172386|        Asia|\n",
      "|   null| 19|    4|2020|   63|     0|            Afghanistan|   AF|                 AFG|   37172386|        Asia|\n",
      "|   null| 18|    4|2020|   51|     1|            Afghanistan|   AF|                 AFG|   37172386|        Asia|\n",
      "|   null| 17|    4|2020|   10|     4|            Afghanistan|   AF|                 AFG|   37172386|        Asia|\n",
      "|   null| 16|    4|2020|   70|     2|            Afghanistan|   AF|                 AFG|   37172386|        Asia|\n",
      "|   null| 15|    4|2020|   49|     2|            Afghanistan|   AF|                 AFG|   37172386|        Asia|\n",
      "|   null| 14|    4|2020|   58|     3|            Afghanistan|   AF|                 AFG|   37172386|        Asia|\n",
      "|   null| 13|    4|2020|   52|     0|            Afghanistan|   AF|                 AFG|   37172386|        Asia|\n",
      "|   null| 12|    4|2020|   34|     3|            Afghanistan|   AF|                 AFG|   37172386|        Asia|\n",
      "|   null| 11|    4|2020|   37|     0|            Afghanistan|   AF|                 AFG|   37172386|        Asia|\n",
      "|   null| 10|    4|2020|   61|     1|            Afghanistan|   AF|                 AFG|   37172386|        Asia|\n",
      "|   null|  9|    4|2020|   56|     3|            Afghanistan|   AF|                 AFG|   37172386|        Asia|\n",
      "+-------+---+-----+----+-----+------+-----------------------+-----+--------------------+-----------+------------+\n",
      "only showing top 20 rows\n",
      "\n"
     ]
    }
   ],
   "source": [
    "df.show()"
   ]
  },
  {
   "cell_type": "code",
   "execution_count": 138,
   "metadata": {
    "collapsed": false,
    "scrolled": false
   },
   "outputs": [
    {
     "name": "stdout",
     "output_type": "stream",
     "text": [
      "root\n",
      " |-- daterep: string (nullable = true)\n",
      " |-- day: integer (nullable = true)\n",
      " |-- month: integer (nullable = true)\n",
      " |-- year: integer (nullable = true)\n",
      " |-- cases: integer (nullable = true)\n",
      " |-- deaths: integer (nullable = true)\n",
      " |-- countriesandterritories: string (nullable = true)\n",
      " |-- geoid: string (nullable = true)\n",
      " |-- countryterritorycode: string (nullable = true)\n",
      " |-- popdata2018: integer (nullable = true)\n",
      " |-- continentexp: string (nullable = true)\n",
      "\n"
     ]
    }
   ],
   "source": [
    "df.printSchema()"
   ]
  },
  {
   "cell_type": "code",
   "execution_count": 139,
   "metadata": {
    "collapsed": false,
    "scrolled": true
   },
   "outputs": [
    {
     "name": "stdout",
     "output_type": "stream",
     "text": [
      "+-----------------------+\n",
      "|countriesandterritories|\n",
      "+-----------------------+\n",
      "|            Afghanistan|\n",
      "|            Afghanistan|\n",
      "|            Afghanistan|\n",
      "|            Afghanistan|\n",
      "|            Afghanistan|\n",
      "|            Afghanistan|\n",
      "|            Afghanistan|\n",
      "|            Afghanistan|\n",
      "|            Afghanistan|\n",
      "|            Afghanistan|\n",
      "|            Afghanistan|\n",
      "|            Afghanistan|\n",
      "|            Afghanistan|\n",
      "|            Afghanistan|\n",
      "|            Afghanistan|\n",
      "|            Afghanistan|\n",
      "|            Afghanistan|\n",
      "|            Afghanistan|\n",
      "|            Afghanistan|\n",
      "|            Afghanistan|\n",
      "+-----------------------+\n",
      "only showing top 20 rows\n",
      "\n"
     ]
    }
   ],
   "source": [
    "df.select(\"countriesandterritories\").show()"
   ]
  },
  {
   "cell_type": "code",
   "execution_count": 140,
   "metadata": {
    "collapsed": false
   },
   "outputs": [
    {
     "name": "stdout",
     "output_type": "stream",
     "text": [
      "+-------+---+-----+----+-----+------+-----------------------+-----+--------------------+-----------+------------+\n",
      "|daterep|day|month|year|cases|deaths|countriesandterritories|geoid|countryterritorycode|popdata2018|continentexp|\n",
      "+-------+---+-----+----+-----+------+-----------------------+-----+--------------------+-----------+------------+\n",
      "|   null| 28|    4|2020|  553|   113|                Belgium|   BE|                 BEL|   11422068|      Europe|\n",
      "|   null| 27|    4|2020|  809|   177|                Belgium|   BE|                 BEL|   11422068|      Europe|\n",
      "|   null| 26|    4|2020| 1032|   238|                Belgium|   BE|                 BEL|   11422068|      Europe|\n",
      "|   null| 25|    4|2020| 1496|   189|                Belgium|   BE|                 BEL|   11422068|      Europe|\n",
      "|   null| 24|    4|2020|  908|   228|                Belgium|   BE|                 BEL|   11422068|      Europe|\n",
      "|   null| 23|    4|2020|  933|   264|                Belgium|   BE|                 BEL|   11422068|      Europe|\n",
      "|   null| 22|    4|2020|  973|   170|                Belgium|   BE|                 BEL|   11422068|      Europe|\n",
      "|   null| 21|    4|2020| 1487|   145|                Belgium|   BE|                 BEL|   11422068|      Europe|\n",
      "|   null| 20|    4|2020| 1313|   230|                Belgium|   BE|                 BEL|   11422068|      Europe|\n",
      "|   null| 19|    4|2020| 1045|   290|                Belgium|   BE|                 BEL|   11422068|      Europe|\n",
      "|   null| 18|    4|2020| 1329|   306|                Belgium|   BE|                 BEL|   11422068|      Europe|\n",
      "|   null| 17|    4|2020| 1236|   417|                Belgium|   BE|                 BEL|   11422068|      Europe|\n",
      "|   null| 16|    4|2020| 2454|   283|                Belgium|   BE|                 BEL|   11422068|      Europe|\n",
      "|   null| 15|    4|2020|  530|   254|                Belgium|   BE|                 BEL|   11422068|      Europe|\n",
      "|   null| 14|    4|2020|  942|   303|                Belgium|   BE|                 BEL|   11422068|      Europe|\n",
      "|   null| 13|    4|2020| 1629|   254|                Belgium|   BE|                 BEL|   11422068|      Europe|\n",
      "|   null| 12|    4|2020| 1351|   327|                Belgium|   BE|                 BEL|   11422068|      Europe|\n",
      "|   null| 11|    4|2020| 1684|   496|                Belgium|   BE|                 BEL|   11422068|      Europe|\n",
      "|   null| 10|    4|2020| 1580|   283|                Belgium|   BE|                 BEL|   11422068|      Europe|\n",
      "|   null|  9|    4|2020| 1209|   205|                Belgium|   BE|                 BEL|   11422068|      Europe|\n",
      "+-------+---+-----+----+-----+------+-----------------------+-----+--------------------+-----------+------------+\n",
      "only showing top 20 rows\n",
      "\n"
     ]
    }
   ],
   "source": [
    "df.filter(df['deaths'] > 100).show()"
   ]
  },
  {
   "cell_type": "code",
   "execution_count": 142,
   "metadata": {
    "collapsed": false
   },
   "outputs": [
    {
     "name": "stdout",
     "output_type": "stream",
     "text": [
      "+-----------------------+-----+\n",
      "|countriesandterritories|count|\n",
      "+-----------------------+-----+\n",
      "|                   Chad|   40|\n",
      "|               Anguilla|   33|\n",
      "|               Paraguay|   48|\n",
      "|                 Russia|  120|\n",
      "|                  Yemen|   19|\n",
      "|           Burkina_Faso|   47|\n",
      "|   Cases_on_an_inter...|   64|\n",
      "|                Senegal|   50|\n",
      "|                 Sweden|  120|\n",
      "|            Timor_Leste|   38|\n",
      "|                 Guyana|   45|\n",
      "|                Eritrea|   38|\n",
      "|                 Jersey|   40|\n",
      "|            Philippines|  116|\n",
      "|               Djibouti|   41|\n",
      "|               Malaysia|  119|\n",
      "|           Sierra_Leone|   28|\n",
      "|              Singapore|  120|\n",
      "|           South_Africa|   52|\n",
      "|   Central_African_R...|   44|\n",
      "+-----------------------+-----+\n",
      "only showing top 20 rows\n",
      "\n"
     ]
    }
   ],
   "source": [
    "df.groupBy(\"countriesandterritories\").count().show()"
   ]
  },
  {
   "cell_type": "code",
   "execution_count": null,
   "metadata": {
    "collapsed": true
   },
   "outputs": [],
   "source": []
  },
  {
   "cell_type": "code",
   "execution_count": null,
   "metadata": {
    "collapsed": true
   },
   "outputs": [],
   "source": [
    "\n",
    "assembler = VectorAssembler(\n",
    "    inputCols=[\"hour\", \"mobile\", \"userFeatures\"],\n",
    "    outputCol=\"features\")\n",
    "\n",
    "output = assembler.transform(dataset)"
   ]
  },
  {
   "cell_type": "code",
   "execution_count": null,
   "metadata": {
    "collapsed": true
   },
   "outputs": [],
   "source": []
  },
  {
   "cell_type": "code",
   "execution_count": 123,
   "metadata": {
    "collapsed": false
   },
   "outputs": [],
   "source": [
    "from pyspark.ml.classification import LogisticRegression\n",
    "lr = LogisticRegression(maxIter=10, regParam=0.3, elasticNetParam=0.8)"
   ]
  },
  {
   "cell_type": "code",
   "execution_count": 127,
   "metadata": {
    "collapsed": false
   },
   "outputs": [],
   "source": [
    "training = spark.read.format(\"libsvm\").load(\"dataset/dataset_csv/sample_libsvm_data.txt\")\n",
    "lrModel = lr.fit(training)"
   ]
  },
  {
   "cell_type": "code",
   "execution_count": null,
   "metadata": {
    "collapsed": true
   },
   "outputs": [],
   "source": [
    "r1 = Correlation.corr(df, \"features\").head()"
   ]
  }
 ],
 "metadata": {
  "kernelspec": {
   "display_name": "Python 3",
   "language": "python",
   "name": "python3"
  },
  "language_info": {
   "codemirror_mode": {
    "name": "ipython",
    "version": 3
   },
   "file_extension": ".py",
   "mimetype": "text/x-python",
   "name": "python",
   "nbconvert_exporter": "python",
   "pygments_lexer": "ipython3",
   "version": "3.6.0"
  }
 },
 "nbformat": 4,
 "nbformat_minor": 2
}
